{
 "cells": [
  {
   "cell_type": "markdown",
   "id": "ab8f89d4",
   "metadata": {
    "id": "ab8f89d4"
   },
   "source": [
    "# **Assignment 5 - Autoencoders**\n",
    "\n",
    "**_Unsupervised Machine Learning_**\n",
    "\n",
    "Group 8\n",
    " \n",
    "**Part 1** - Harjinder Singh Dhesi\n",
    "\n",
    "**Part 2** - Qichun Yu"
   ]
  },
  {
   "cell_type": "markdown",
   "id": "88039d6d",
   "metadata": {
    "id": "88039d6d"
   },
   "source": [
    "### **Part 1** - The MNIST Neural Network"
   ]
  },
  {
   "cell_type": "markdown",
   "id": "b5cc0717",
   "metadata": {
    "id": "b5cc0717"
   },
   "source": [
    "### 1. Import pickle, numpy, matplotlib, and the Sequential and Dense classes from Keras."
   ]
  },
  {
   "cell_type": "code",
   "execution_count": 1,
   "id": "c63dc7f8",
   "metadata": {
    "id": "c63dc7f8"
   },
   "outputs": [
    {
     "name": "stderr",
     "output_type": "stream",
     "text": [
      "Using TensorFlow backend.\n",
      "C:\\Users\\jacks\\anaconda3\\envs\\UL\\lib\\site-packages\\tensorflow\\python\\framework\\dtypes.py:526: FutureWarning: Passing (type, 1) or '1type' as a synonym of type is deprecated; in a future version of numpy, it will be understood as (type, (1,)) / '(1,)type'.\n",
      "  _np_qint8 = np.dtype([(\"qint8\", np.int8, 1)])\n",
      "C:\\Users\\jacks\\anaconda3\\envs\\UL\\lib\\site-packages\\tensorflow\\python\\framework\\dtypes.py:527: FutureWarning: Passing (type, 1) or '1type' as a synonym of type is deprecated; in a future version of numpy, it will be understood as (type, (1,)) / '(1,)type'.\n",
      "  _np_quint8 = np.dtype([(\"quint8\", np.uint8, 1)])\n",
      "C:\\Users\\jacks\\anaconda3\\envs\\UL\\lib\\site-packages\\tensorflow\\python\\framework\\dtypes.py:528: FutureWarning: Passing (type, 1) or '1type' as a synonym of type is deprecated; in a future version of numpy, it will be understood as (type, (1,)) / '(1,)type'.\n",
      "  _np_qint16 = np.dtype([(\"qint16\", np.int16, 1)])\n",
      "C:\\Users\\jacks\\anaconda3\\envs\\UL\\lib\\site-packages\\tensorflow\\python\\framework\\dtypes.py:529: FutureWarning: Passing (type, 1) or '1type' as a synonym of type is deprecated; in a future version of numpy, it will be understood as (type, (1,)) / '(1,)type'.\n",
      "  _np_quint16 = np.dtype([(\"quint16\", np.uint16, 1)])\n",
      "C:\\Users\\jacks\\anaconda3\\envs\\UL\\lib\\site-packages\\tensorflow\\python\\framework\\dtypes.py:530: FutureWarning: Passing (type, 1) or '1type' as a synonym of type is deprecated; in a future version of numpy, it will be understood as (type, (1,)) / '(1,)type'.\n",
      "  _np_qint32 = np.dtype([(\"qint32\", np.int32, 1)])\n",
      "C:\\Users\\jacks\\anaconda3\\envs\\UL\\lib\\site-packages\\tensorflow\\python\\framework\\dtypes.py:535: FutureWarning: Passing (type, 1) or '1type' as a synonym of type is deprecated; in a future version of numpy, it will be understood as (type, (1,)) / '(1,)type'.\n",
      "  np_resource = np.dtype([(\"resource\", np.ubyte, 1)])\n"
     ]
    }
   ],
   "source": [
    "# importing necessary libraries\n",
    "\n",
    "import pickle\n",
    "import numpy as np\n",
    "import matplotlib.pyplot as plt\n",
    "\n",
    "from keras.models import Sequential\n",
    "from keras.layers import Dense\n",
    "\n",
    "import tensorflow.python.util.deprecation as deprecation\n",
    "deprecation._PRINT_DEPRECATION_WARNINGS = False"
   ]
  },
  {
   "cell_type": "markdown",
   "id": "b4caad97",
   "metadata": {
    "id": "b4caad97"
   },
   "source": [
    "### 2. Load the mnist.pkl file, which contains the first 10,000 images and the corresponding labels from the MNIST dataset that are available in the accompanying source code. The MNIST dataset is a series of 28 x 28 grayscale images of handwritten digits, 0 through 9. You can find the mnist.pkl file in the dropbox for this assignment."
   ]
  },
  {
   "cell_type": "code",
   "execution_count": 2,
   "id": "088fc9b2",
   "metadata": {
    "colab": {
     "base_uri": "https://localhost:8080/"
    },
    "id": "088fc9b2",
    "outputId": "0fc4ed81-d54d-4a96-fe2d-1e5ec98910b4"
   },
   "outputs": [
    {
     "data": {
      "text/plain": [
       "dict_keys(['images', 'labels'])"
      ]
     },
     "execution_count": 2,
     "metadata": {},
     "output_type": "execute_result"
    }
   ],
   "source": [
    "# loading the mnist.pkl file\n",
    "\n",
    "with open('mnist.pkl', 'rb') as mnist:\n",
    "    data = pickle.load(mnist)\n",
    "\n",
    "# checking the keys or attributes in the data\n",
    "\n",
    "data.keys()"
   ]
  },
  {
   "cell_type": "code",
   "execution_count": 3,
   "id": "7NjfpE5aq421",
   "metadata": {
    "colab": {
     "base_uri": "https://localhost:8080/"
    },
    "id": "7NjfpE5aq421",
    "outputId": "13df93b7-1cda-4663-ba1b-9e28733768a8"
   },
   "outputs": [
    {
     "name": "stdout",
     "output_type": "stream",
     "text": [
      "shape of images data (10000, 28, 28)\n",
      "Shape of labels data (10000,)\n"
     ]
    }
   ],
   "source": [
    "# getting images out of the file\n",
    "\n",
    "images = data['images']\n",
    "print(\"shape of images data\", images.shape)\n",
    "\n",
    "# getting labels correcponding to the above images\n",
    "\n",
    "labels = data['labels']\n",
    "print(\"Shape of labels data\", labels.shape)"
   ]
  },
  {
   "cell_type": "markdown",
   "id": "3d7c66ed",
   "metadata": {
    "id": "3d7c66ed"
   },
   "source": [
    "### 3. Plot the first 10 samples along with the corresponding labels. Describe what you see."
   ]
  },
  {
   "cell_type": "code",
   "execution_count": 4,
   "id": "4cee9957",
   "metadata": {
    "colab": {
     "base_uri": "https://localhost:8080/",
     "height": 291
    },
    "id": "4cee9957",
    "outputId": "b6726de7-ccfa-4c53-f086-32b6fc2bd2d0"
   },
   "outputs": [
    {
     "data": {
      "image/png": "[encoded data removed]",
      "text/plain": [
       "<Figure size 1000x500 with 10 Axes>"
      ]
     },
     "metadata": {},
     "output_type": "display_data"
    }
   ],
   "source": [
    "# plotting the first 10 sample images with their corresponding labels\n",
    "\n",
    "plt.figure(figsize=(10, 5))\n",
    "\n",
    "for i in range(10):\n",
    "    plt.subplot(2, 5, i + 1)            # 2rows 5 columns\n",
    "    plt.imshow(images[i], cmap = 'gray')\n",
    "    plt.title(labels[i])\n",
    "    plt.axis('off')\n",
    "    \n",
    "plt.show()"
   ]
  },
  {
   "cell_type": "markdown",
   "id": "9c875d5b",
   "metadata": {
    "id": "9c875d5b"
   },
   "source": [
    "**Observation -**\n",
    "\n",
    "The first 10 samples are handwritten digits **5, 0, 4, 1, 9, 2, 1, 3, 1, 4**.\n",
    "\n",
    "We can see **handwritten digits coloured in white with a black background**. \n",
    "\n",
    "**The image digits appear to be labelled with correct labels**. For example, digit 5 is labeled with number 5."
   ]
  },
  {
   "cell_type": "markdown",
   "id": "b53ecfbc",
   "metadata": {
    "id": "b53ecfbc"
   },
   "source": [
    "### 4. Encode the labels using one-hot encoding."
   ]
  },
  {
   "cell_type": "code",
   "execution_count": 5,
   "id": "f472d8f5",
   "metadata": {
    "id": "f472d8f5"
   },
   "outputs": [],
   "source": [
    "# doing one-hot-encoding of the labels\n",
    "\n",
    "one_hot_labels = np.zeros((images.shape[0], 10))   # (10000, 10)\n",
    "for index, label in enumerate(labels):\n",
    "    one_hot_labels[index, label] = 1"
   ]
  },
  {
   "cell_type": "code",
   "execution_count": 6,
   "id": "49045870",
   "metadata": {
    "colab": {
     "base_uri": "https://localhost:8080/"
    },
    "id": "49045870",
    "outputId": "d12ee7c0-0dfe-4e59-e436-903641f59a2e"
   },
   "outputs": [
    {
     "data": {
      "text/plain": [
       "array([[0., 0., 0., ..., 0., 0., 0.],\n",
       "       [1., 0., 0., ..., 0., 0., 0.],\n",
       "       [0., 0., 0., ..., 0., 0., 0.],\n",
       "       ...,\n",
       "       [0., 0., 0., ..., 0., 0., 0.],\n",
       "       [0., 0., 0., ..., 0., 0., 1.],\n",
       "       [0., 0., 0., ..., 1., 0., 0.]])"
      ]
     },
     "execution_count": 6,
     "metadata": {},
     "output_type": "execute_result"
    }
   ],
   "source": [
    "one_hot_labels"
   ]
  },
  {
   "cell_type": "markdown",
   "id": "cce4f710",
   "metadata": {
    "id": "cce4f710"
   },
   "source": [
    "### 5. Prepare the images for input into a neural network. Describe what is done in the two separate steps in this process."
   ]
  },
  {
   "cell_type": "code",
   "execution_count": 7,
   "id": "40580f43",
   "metadata": {
    "id": "40580f43"
   },
   "outputs": [],
   "source": [
    "# step 1 - reshaping the images\n",
    "\n",
    "images = images.reshape((-1, 28 ** 2)) #28**2=784\n",
    "\n",
    "# step 2 - scaling the image pixels\n",
    "\n",
    "images = images / 255."
   ]
  },
  {
   "cell_type": "markdown",
   "id": "90aeb150",
   "metadata": {
    "id": "90aeb150"
   },
   "source": [
    "**Step 1 - To Reshape the images**. We need the images to be in the shape 10,000 x 784. As each input image is 28 x 28 pixels in size, the input vector will comprise 28 * 28 = 784 values. \n",
    "\n",
    "**Step 2 - Normalizing the image pixels**. The next step is to scale the image pixels to be between 0 and 1, as required for all inputs in a neural network. In this way, the numbers will be small and the computation becomes easier and faster. \n",
    "Because the maximum pixel value of an image is 255, to scale it down to be between 0 and 1, we simply divide the values by 255. "
   ]
  },
  {
   "cell_type": "markdown",
   "id": "f25464dc",
   "metadata": {
    "id": "f25464dc"
   },
   "source": [
    "### 6. Define the three types of layers in a neural network: 'input', 'hidden' and 'output'."
   ]
  },
  {
   "cell_type": "markdown",
   "id": "6a6e1501",
   "metadata": {
    "id": "6a6e1501"
   },
   "source": [
    "##### **Three Different Types of Layers in a Neural Network**\n",
    "_______________\n",
    "**input** - The first layer of the neural network.\n",
    "_______________\n",
    "_It takes raw data as imput and pass it to the rest of the neural network. The input layer will have neurons equal to the input data. At the encoding stage, it takes the input information and compresses it through a subsequent layer that has fewer units than the size of the input data_.\n",
    "\n",
    "\n",
    "________________\n",
    "**hidden** - The intermediate layer between the input layer and the output layer.\n",
    "_______________\n",
    "_There could be one or more hidden layers. They are the key component that allows a neural network to learn complex tasks. Each input neuron will have a connection to all the neurons of the hidden layer. The last hidden layer will be connected to the output layer_.\n",
    "\n",
    "_______________\n",
    "**output** - The layer that produces the result for given inputs.\n",
    "_______________\n",
    "_The output layer takes as input the processed data and produces the final results.\n",
    " At the decoding stage, it expands the compressed form of the image and aims to return the compressed image to its original form._"
   ]
  },
  {
   "cell_type": "markdown",
   "id": "76b22445",
   "metadata": {
    "id": "76b22445"
   },
   "source": [
    "### 7. Construct a neural network model in Keras that accepts the prepared images and has a hidden layer of 600 units with a ReLU activation function and an output of the same number of units as classes. Note that the output layer uses a softmax activation function."
   ]
  },
  {
   "cell_type": "code",
   "execution_count": 8,
   "id": "aa119547",
   "metadata": {
    "id": "aa119547"
   },
   "outputs": [],
   "source": [
    "# creating a neural network model architecture as required\n",
    "\n",
    "model = Sequential([Dense(600, input_shape = (784,), activation = 'relu'), Dense(10, activation = 'softmax')])"
   ]
  },
  {
   "cell_type": "markdown",
   "id": "b39d6dd1",
   "metadata": {
    "id": "b39d6dd1"
   },
   "source": [
    "### 8. Define the following terms: activation function; multiclass cross-entropy; stochastic gradient descent.\n",
    "\n",
    "\n",
    "\n",
    "\n",
    "##### **Required Definitions -**\n",
    "___________________\n",
    "**a) activation function -**\n",
    "___________________\n",
    "_The activation function is used to get the output of the node or a neuron given the input. It is a function that is used to compute the weighted sum of inputs and biases, which helps decide whether a neuron should be activated or not for making the predication. Some options for the activation functions are ReLU, sigmoid, and tanh_.\n",
    "\n",
    "___________________\n",
    "**b) multiclass cross-entropy -**\n",
    "___________________\n",
    "_Cross-entropy is a commonly used loss function for classification problems. Cross-entropy calculates a score that summarizes the average differrence between the actual and predicted probability distributions for all classes and then using that, it measures how well the machine learning model performs_.\n",
    "\n",
    "___________________\n",
    "**c) stochastic gradient descent -**\n",
    "___________________\n",
    "_Stochastic gradient descent is an optimizer to minimize the loss._\n",
    "_It helps to find the model parameters that correspond to the best fit between predicted and actual outputs. Stochastic gradient descent randomly selected the batch and then take a step to adjust the weights and biases to reduce the loss and improve the predictions_."
   ]
  },
  {
   "cell_type": "markdown",
   "id": "525c22b4",
   "metadata": {
    "id": "525c22b4"
   },
   "source": [
    "### 9. Compile the model using multiclass cross-entropy, stochastic gradient descent, and an accuracy performance metric."
   ]
  },
  {
   "cell_type": "code",
   "execution_count": 9,
   "id": "058f40ab",
   "metadata": {
    "id": "058f40ab"
   },
   "outputs": [],
   "source": [
    "# compiling the mnodel\n",
    "\n",
    "model.compile(loss = 'categorical_crossentropy', optimizer = 'sgd', metrics = ['accuracy'])"
   ]
  },
  {
   "cell_type": "markdown",
   "id": "90dd3bfb",
   "metadata": {
    "id": "90dd3bfb"
   },
   "source": [
    "### 10. Train the model. How many epochs are required to achieve at least 95% classification accuracy on the training data?"
   ]
  },
  {
   "cell_type": "code",
   "execution_count": 10,
   "id": "5172af42",
   "metadata": {
    "colab": {
     "base_uri": "https://localhost:8080/"
    },
    "id": "5172af42",
    "outputId": "ee4569e5-f094-46b2-ce91-d13bf18621e7"
   },
   "outputs": [
    {
     "name": "stdout",
     "output_type": "stream",
     "text": [
      "Epoch 1/30\n",
      "10000/10000 [==============================] - 1s 88us/step - loss: 1.2770 - acc: 0.7144\n",
      "Epoch 2/30\n",
      "10000/10000 [==============================] - 1s 89us/step - loss: 0.6103 - acc: 0.8626\n",
      "Epoch 3/30\n",
      "10000/10000 [==============================] - 1s 85us/step - loss: 0.4696 - acc: 0.8858\n",
      "Epoch 4/30\n",
      "10000/10000 [==============================] - 1s 86us/step - loss: 0.4066 - acc: 0.8958\n",
      "Epoch 5/30\n",
      "10000/10000 [==============================] - 1s 80us/step - loss: 0.3693 - acc: 0.9028\n",
      "Epoch 6/30\n",
      "10000/10000 [==============================] - 1s 77us/step - loss: 0.3426 - acc: 0.9098\n",
      "Epoch 7/30\n",
      "10000/10000 [==============================] - 1s 81us/step - loss: 0.3224 - acc: 0.9159\n",
      "Epoch 8/30\n",
      "10000/10000 [==============================] - 1s 78us/step - loss: 0.3066 - acc: 0.9195\n",
      "Epoch 9/30\n",
      "10000/10000 [==============================] - 1s 79us/step - loss: 0.2931 - acc: 0.9211\n",
      "Epoch 10/30\n",
      "10000/10000 [==============================] - 1s 81us/step - loss: 0.2817 - acc: 0.9232\n",
      "Epoch 11/30\n",
      "10000/10000 [==============================] - 1s 82us/step - loss: 0.2706 - acc: 0.9283\n",
      "Epoch 12/30\n",
      "10000/10000 [==============================] - 1s 88us/step - loss: 0.2620 - acc: 0.9321\n",
      "Epoch 13/30\n",
      "10000/10000 [==============================] - 1s 82us/step - loss: 0.2532 - acc: 0.9340\n",
      "Epoch 14/30\n",
      "10000/10000 [==============================] - 1s 88us/step - loss: 0.2456 - acc: 0.9348\n",
      "Epoch 15/30\n",
      "10000/10000 [==============================] - 1s 81us/step - loss: 0.2383 - acc: 0.9370\n",
      "Epoch 16/30\n",
      "10000/10000 [==============================] - 1s 92us/step - loss: 0.2318 - acc: 0.9398\n",
      "Epoch 17/30\n",
      "10000/10000 [==============================] - 1s 87us/step - loss: 0.2258 - acc: 0.9403\n",
      "Epoch 18/30\n",
      "10000/10000 [==============================] - 1s 93us/step - loss: 0.2195 - acc: 0.9425\n",
      "Epoch 19/30\n",
      "10000/10000 [==============================] - 1s 96us/step - loss: 0.2135 - acc: 0.9423\n",
      "Epoch 20/30\n",
      "10000/10000 [==============================] - 1s 89us/step - loss: 0.2086 - acc: 0.9443\n",
      "Epoch 21/30\n",
      "10000/10000 [==============================] - 1s 98us/step - loss: 0.2033 - acc: 0.9454\n",
      "Epoch 22/30\n",
      "10000/10000 [==============================] - 1s 87us/step - loss: 0.1983 - acc: 0.9470\n",
      "Epoch 23/30\n",
      "10000/10000 [==============================] - 1s 85us/step - loss: 0.1936 - acc: 0.9469\n",
      "Epoch 24/30\n",
      "10000/10000 [==============================] - 1s 80us/step - loss: 0.1891 - acc: 0.9486\n",
      "Epoch 25/30\n",
      "10000/10000 [==============================] - 1s 98us/step - loss: 0.1844 - acc: 0.9498\n",
      "Epoch 26/30\n",
      "10000/10000 [==============================] - 1s 85us/step - loss: 0.1807 - acc: 0.9512\n",
      "Epoch 27/30\n",
      "10000/10000 [==============================] - 1s 92us/step - loss: 0.1768 - acc: 0.9512\n",
      "Epoch 28/30\n",
      "10000/10000 [==============================] - 1s 93us/step - loss: 0.1724 - acc: 0.9540\n",
      "Epoch 29/30\n",
      "10000/10000 [==============================] - 1s 87us/step - loss: 0.1687 - acc: 0.9544\n",
      "Epoch 30/30\n",
      "10000/10000 [==============================] - 1s 93us/step - loss: 0.1651 - acc: 0.9553\n"
     ]
    },
    {
     "data": {
      "text/plain": [
       "<keras.callbacks.History at 0x1d72e073d88>"
      ]
     },
     "execution_count": 10,
     "metadata": {},
     "output_type": "execute_result"
    }
   ],
   "source": [
    "# training the model with the images data\n",
    "\n",
    "model.fit(images, one_hot_labels, epochs = 30)"
   ]
  },
  {
   "cell_type": "markdown",
   "id": "3c6a0b92",
   "metadata": {
    "id": "3c6a0b92"
   },
   "source": [
    "It can be seen above that in order **to get atleast 95% accuracy, 25 epochs are required**."
   ]
  },
  {
   "cell_type": "markdown",
   "id": "adb17486",
   "metadata": {
    "id": "adb17486"
   },
   "source": [
    "### **Part 2 -** Simple MNIST Autoencoder"
   ]
  },
  {
   "cell_type": "markdown",
   "id": "baa30746",
   "metadata": {
    "id": "baa30746"
   },
   "source": [
    "### 1. Import pickle, numpy, and matplotlib, as well as the Model, Input, and Dense classes, from Keras."
   ]
  },
  {
   "cell_type": "code",
   "execution_count": 11,
   "id": "dde7d2a2",
   "metadata": {
    "id": "dde7d2a2"
   },
   "outputs": [],
   "source": [
    "# importing necessary libraries\n",
    "\n",
    "from keras.models import Model\n",
    "from keras.layers import Input"
   ]
  },
  {
   "cell_type": "markdown",
   "id": "3c2531fb",
   "metadata": {
    "id": "3c2531fb"
   },
   "source": [
    "### 2. Load the images from the supplied sample of the MNIST dataset."
   ]
  },
  {
   "cell_type": "code",
   "execution_count": 12,
   "id": "542e4c73",
   "metadata": {
    "id": "542e4c73"
   },
   "outputs": [],
   "source": [
    "# loading the images \n",
    "\n",
    "with open('mnist.pkl', 'rb') as mnist:\n",
    "    images = pickle.load(mnist)['images']"
   ]
  },
  {
   "cell_type": "markdown",
   "id": "23496b86",
   "metadata": {
    "id": "23496b86"
   },
   "source": [
    "### 3. Prepare the images for input into a neural network, the same way you did in part 1."
   ]
  },
  {
   "cell_type": "code",
   "execution_count": 13,
   "id": "9e44d020",
   "metadata": {
    "id": "9e44d020"
   },
   "outputs": [],
   "source": [
    "# reshaping the images\n",
    "\n",
    "images = images.reshape((-1, 28 ** 2))  # 28**2=784\n",
    "\n",
    "# scaling the image pixels\n",
    "\n",
    "images = images / 255."
   ]
  },
  {
   "cell_type": "markdown",
   "id": "bb58c59b",
   "metadata": {
    "id": "bb58c59b"
   },
   "source": [
    "### 4. Define what is meant by the input layer, encoding stage, and decoding stage of an autoencoder."
   ]
  },
  {
   "cell_type": "markdown",
   "id": "02c90f33",
   "metadata": {
    "id": "02c90f33"
   },
   "source": [
    "| Terms | Definition |\n",
    "| :-: | :- |\n",
    "| __input layer__ | The first layer of the autoencoder. It takes as input the raw data and pass it to the rest of the neural network. The input layer will have neurons equal to the input data. |\n",
    "| __encoding stage__ | The first stage of autoencoder that takes the input information and compresses it through a subsequent layer that has fewer units than the size of the input data. |\n",
    "| __decoding stage__ | The latter stage of autoencoder that expands the compressed form of the image and aims to return the compressed image to its original form.|"
   ]
  },
  {
   "cell_type": "markdown",
   "id": "69f4b20c",
   "metadata": {
    "id": "69f4b20c"
   },
   "source": [
    "### 5. Construct a simple autoencoder network that reduces the image size to 10 x 10 after the encoding stage."
   ]
  },
  {
   "cell_type": "code",
   "execution_count": 14,
   "id": "dd45f5bb",
   "metadata": {
    "id": "dd45f5bb"
   },
   "outputs": [],
   "source": [
    "# defining the autoencoder model with an input layer of 784 units\n",
    "\n",
    "input_layer = Input(shape = (784,))"
   ]
  },
  {
   "cell_type": "code",
   "execution_count": 15,
   "id": "9523c17f",
   "metadata": {
    "id": "9523c17f"
   },
   "outputs": [],
   "source": [
    "# defining a subsequent encoder layer with 100 units (10X10)\n",
    "\n",
    "encoding_stage = Dense(100, activation = 'relu')(input_layer)"
   ]
  },
  {
   "cell_type": "code",
   "execution_count": 16,
   "id": "badf37ec",
   "metadata": {
    "id": "badf37ec"
   },
   "outputs": [],
   "source": [
    "# defining a subsequent decoder layer with the same number of units as the input layer\n",
    "\n",
    "decoding_stage = Dense(784, activation = 'sigmoid')(encoding_stage)"
   ]
  },
  {
   "cell_type": "code",
   "execution_count": 17,
   "id": "d5f7790e",
   "metadata": {
    "id": "d5f7790e"
   },
   "outputs": [],
   "source": [
    "# constructing the model by passing the first and last layers to the Model Class\n",
    "\n",
    "autoencoder = Model(input_layer, decoding_stage)"
   ]
  },
  {
   "cell_type": "markdown",
   "id": "16d188d4",
   "metadata": {
    "id": "16d188d4"
   },
   "source": [
    "### 6. Compile the autoencoder using a binary cross-entropy loss function and adadelta gradient descent."
   ]
  },
  {
   "cell_type": "code",
   "execution_count": 18,
   "id": "75acebc6",
   "metadata": {
    "id": "75acebc6"
   },
   "outputs": [],
   "source": [
    "# compiling the autoencoder model\n",
    "\n",
    "autoencoder.compile(loss = 'binary_crossentropy', optimizer = 'adadelta')"
   ]
  },
  {
   "cell_type": "markdown",
   "id": "67ff9923",
   "metadata": {
    "id": "67ff9923"
   },
   "source": [
    "### 7. How is adadelta gradient descent different than stochastic gradient descent?"
   ]
  },
  {
   "cell_type": "markdown",
   "id": "31d568c4",
   "metadata": {
    "id": "31d568c4"
   },
   "source": [
    "**Stochastic gradient descent** makes adjustments by taking previous epochs and gradients into consideration, whereas, **Adadelta optimizer** makes adjustments by taking exponentially decaying weighted average of the past gradients intead of accumulating those gradients. "
   ]
  },
  {
   "cell_type": "markdown",
   "id": "5a44174b",
   "metadata": {
    "id": "5a44174b"
   },
   "source": [
    "### 8. Fit the encoder model."
   ]
  },
  {
   "cell_type": "code",
   "execution_count": 19,
   "id": "d627b4d0",
   "metadata": {
    "colab": {
     "base_uri": "https://localhost:8080/"
    },
    "id": "d627b4d0",
    "outputId": "d5075381-07b6-4eef-fecc-304c61931e00"
   },
   "outputs": [
    {
     "name": "stdout",
     "output_type": "stream",
     "text": [
      "Epoch 1/100\n",
      "10000/10000 [==============================] - 1s 82us/step - loss: 0.3222\n",
      "Epoch 2/100\n",
      "10000/10000 [==============================] - 1s 65us/step - loss: 0.2378\n",
      "Epoch 3/100\n",
      "10000/10000 [==============================] - 1s 68us/step - loss: 0.2081\n",
      "Epoch 4/100\n",
      "10000/10000 [==============================] - 1s 79us/step - loss: 0.1897\n",
      "Epoch 5/100\n",
      "10000/10000 [==============================] - 1s 71us/step - loss: 0.1773\n",
      "Epoch 6/100\n",
      "10000/10000 [==============================] - 1s 67us/step - loss: 0.1675\n",
      "Epoch 7/100\n",
      "10000/10000 [==============================] - 1s 74us/step - loss: 0.1594\n",
      "Epoch 8/100\n",
      "10000/10000 [==============================] - 1s 68us/step - loss: 0.1524\n",
      "Epoch 9/100\n",
      "10000/10000 [==============================] - 1s 70us/step - loss: 0.1464\n",
      "Epoch 10/100\n",
      "10000/10000 [==============================] - 1s 80us/step - loss: 0.1410\n",
      "Epoch 11/100\n",
      "10000/10000 [==============================] - 1s 71us/step - loss: 0.1362\n",
      "Epoch 12/100\n",
      "10000/10000 [==============================] - 1s 85us/step - loss: 0.1319\n",
      "Epoch 13/100\n",
      "10000/10000 [==============================] - 1s 66us/step - loss: 0.1280\n",
      "Epoch 14/100\n",
      "10000/10000 [==============================] - 1s 71us/step - loss: 0.1245\n",
      "Epoch 15/100\n",
      "10000/10000 [==============================] - 1s 72us/step - loss: 0.1212\n",
      "Epoch 16/100\n",
      "10000/10000 [==============================] - 1s 74us/step - loss: 0.1182\n",
      "Epoch 17/100\n",
      "10000/10000 [==============================] - 1s 68us/step - loss: 0.1154\n",
      "Epoch 18/100\n",
      "10000/10000 [==============================] - 1s 67us/step - loss: 0.1128\n",
      "Epoch 19/100\n",
      "10000/10000 [==============================] - 1s 76us/step - loss: 0.1104\n",
      "Epoch 20/100\n",
      "10000/10000 [==============================] - 1s 82us/step - loss: 0.1083\n",
      "Epoch 21/100\n",
      "10000/10000 [==============================] - 1s 81us/step - loss: 0.1062\n",
      "Epoch 22/100\n",
      "10000/10000 [==============================] - 1s 95us/step - loss: 0.1044\n",
      "Epoch 23/100\n",
      "10000/10000 [==============================] - 1s 61us/step - loss: 0.1027\n",
      "Epoch 24/100\n",
      "10000/10000 [==============================] - 1s 84us/step - loss: 0.1012\n",
      "Epoch 25/100\n",
      "10000/10000 [==============================] - 1s 69us/step - loss: 0.0997\n",
      "Epoch 26/100\n",
      "10000/10000 [==============================] - 1s 72us/step - loss: 0.0984\n",
      "Epoch 27/100\n",
      "10000/10000 [==============================] - 1s 59us/step - loss: 0.0972\n",
      "Epoch 28/100\n",
      "10000/10000 [==============================] - 1s 60us/step - loss: 0.0961\n",
      "Epoch 29/100\n",
      "10000/10000 [==============================] - 1s 58us/step - loss: 0.0951\n",
      "Epoch 30/100\n",
      "10000/10000 [==============================] - 1s 58us/step - loss: 0.0942\n",
      "Epoch 31/100\n",
      "10000/10000 [==============================] - 1s 59us/step - loss: 0.0933\n",
      "Epoch 32/100\n",
      "10000/10000 [==============================] - 1s 66us/step - loss: 0.0925\n",
      "Epoch 33/100\n",
      "10000/10000 [==============================] - 1s 69us/step - loss: 0.0917\n",
      "Epoch 34/100\n",
      "10000/10000 [==============================] - 1s 80us/step - loss: 0.0910\n",
      "Epoch 35/100\n",
      "10000/10000 [==============================] - 1s 61us/step - loss: 0.0904\n",
      "Epoch 36/100\n",
      "10000/10000 [==============================] - 1s 71us/step - loss: 0.0897\n",
      "Epoch 37/100\n",
      "10000/10000 [==============================] - 1s 59us/step - loss: 0.0891\n",
      "Epoch 38/100\n",
      "10000/10000 [==============================] - 1s 66us/step - loss: 0.0886\n",
      "Epoch 39/100\n",
      "10000/10000 [==============================] - 1s 60us/step - loss: 0.0881\n",
      "Epoch 40/100\n",
      "10000/10000 [==============================] - 1s 59us/step - loss: 0.0876\n",
      "Epoch 41/100\n",
      "10000/10000 [==============================] - 1s 83us/step - loss: 0.0871\n",
      "Epoch 42/100\n",
      "10000/10000 [==============================] - 1s 64us/step - loss: 0.0867\n",
      "Epoch 43/100\n",
      "10000/10000 [==============================] - 1s 84us/step - loss: 0.0862\n",
      "Epoch 44/100\n",
      "10000/10000 [==============================] - 1s 89us/step - loss: 0.0858\n",
      "Epoch 45/100\n",
      "10000/10000 [==============================] - 1s 76us/step - loss: 0.0854\n",
      "Epoch 46/100\n",
      "10000/10000 [==============================] - 1s 58us/step - loss: 0.0851\n",
      "Epoch 47/100\n",
      "10000/10000 [==============================] - 1s 58us/step - loss: 0.0847\n",
      "Epoch 48/100\n",
      "10000/10000 [==============================] - 1s 74us/step - loss: 0.0844\n",
      "Epoch 49/100\n",
      "10000/10000 [==============================] - 1s 70us/step - loss: 0.0840\n",
      "Epoch 50/100\n",
      "10000/10000 [==============================] - 1s 82us/step - loss: 0.0837\n",
      "Epoch 51/100\n",
      "10000/10000 [==============================] - 1s 65us/step - loss: 0.0834\n",
      "Epoch 52/100\n",
      "10000/10000 [==============================] - 1s 58us/step - loss: 0.0831\n",
      "Epoch 53/100\n",
      "10000/10000 [==============================] - 1s 56us/step - loss: 0.0828\n",
      "Epoch 54/100\n",
      "10000/10000 [==============================] - 1s 58us/step - loss: 0.0825\n",
      "Epoch 55/100\n",
      "10000/10000 [==============================] - 1s 70us/step - loss: 0.0823\n",
      "Epoch 56/100\n",
      "10000/10000 [==============================] - 1s 63us/step - loss: 0.0820\n",
      "Epoch 57/100\n",
      "10000/10000 [==============================] - 1s 65us/step - loss: 0.0818\n",
      "Epoch 58/100\n",
      "10000/10000 [==============================] - 1s 65us/step - loss: 0.0815\n",
      "Epoch 59/100\n",
      "10000/10000 [==============================] - 1s 58us/step - loss: 0.0813\n",
      "Epoch 60/100\n",
      "10000/10000 [==============================] - 1s 59us/step - loss: 0.0811\n",
      "Epoch 61/100\n",
      "10000/10000 [==============================] - 1s 74us/step - loss: 0.0809\n",
      "Epoch 62/100\n",
      "10000/10000 [==============================] - 1s 57us/step - loss: 0.0806\n",
      "Epoch 63/100\n",
      "10000/10000 [==============================] - 1s 64us/step - loss: 0.0804\n",
      "Epoch 64/100\n",
      "10000/10000 [==============================] - 1s 71us/step - loss: 0.0802\n",
      "Epoch 65/100\n",
      "10000/10000 [==============================] - 1s 74us/step - loss: 0.0801\n",
      "Epoch 66/100\n",
      "10000/10000 [==============================] - 1s 70us/step - loss: 0.0799\n",
      "Epoch 67/100\n",
      "10000/10000 [==============================] - 1s 71us/step - loss: 0.0797\n",
      "Epoch 68/100\n",
      "10000/10000 [==============================] - 1s 64us/step - loss: 0.0795\n",
      "Epoch 69/100\n",
      "10000/10000 [==============================] - 1s 57us/step - loss: 0.0793\n",
      "Epoch 70/100\n",
      "10000/10000 [==============================] - 1s 58us/step - loss: 0.0791\n",
      "Epoch 71/100\n",
      "10000/10000 [==============================] - 1s 58us/step - loss: 0.0790\n",
      "Epoch 72/100\n",
      "10000/10000 [==============================] - 1s 58us/step - loss: 0.0788\n",
      "Epoch 73/100\n",
      "10000/10000 [==============================] - 1s 58us/step - loss: 0.0787\n",
      "Epoch 74/100\n",
      "10000/10000 [==============================] - 1s 65us/step - loss: 0.0785\n",
      "Epoch 75/100\n",
      "10000/10000 [==============================] - 1s 68us/step - loss: 0.0784\n",
      "Epoch 76/100\n",
      "10000/10000 [==============================] - 1s 63us/step - loss: 0.0782\n",
      "Epoch 77/100\n",
      "10000/10000 [==============================] - 1s 68us/step - loss: 0.0781\n",
      "Epoch 78/100\n",
      "10000/10000 [==============================] - 1s 64us/step - loss: 0.0779\n",
      "Epoch 79/100\n",
      "10000/10000 [==============================] - 1s 67us/step - loss: 0.0778\n",
      "Epoch 80/100\n",
      "10000/10000 [==============================] - 1s 78us/step - loss: 0.0776\n",
      "Epoch 81/100\n",
      "10000/10000 [==============================] - 1s 71us/step - loss: 0.0775\n",
      "Epoch 82/100\n",
      "10000/10000 [==============================] - 1s 69us/step - loss: 0.0774\n",
      "Epoch 83/100\n",
      "10000/10000 [==============================] - 1s 82us/step - loss: 0.0773\n",
      "Epoch 84/100\n",
      "10000/10000 [==============================] - 1s 81us/step - loss: 0.0771\n",
      "Epoch 85/100\n",
      "10000/10000 [==============================] - 1s 79us/step - loss: 0.0770\n",
      "Epoch 86/100\n",
      "10000/10000 [==============================] - 1s 65us/step - loss: 0.0769\n",
      "Epoch 87/100\n",
      "10000/10000 [==============================] - 1s 83us/step - loss: 0.0768\n",
      "Epoch 88/100\n",
      "10000/10000 [==============================] - 1s 65us/step - loss: 0.0767\n",
      "Epoch 89/100\n",
      "10000/10000 [==============================] - 1s 66us/step - loss: 0.0766\n",
      "Epoch 90/100\n",
      "10000/10000 [==============================] - 1s 66us/step - loss: 0.0765\n",
      "Epoch 91/100\n",
      "10000/10000 [==============================] - 1s 60us/step - loss: 0.0763\n",
      "Epoch 92/100\n",
      "10000/10000 [==============================] - 1s 60us/step - loss: 0.0762\n",
      "Epoch 93/100\n",
      "10000/10000 [==============================] - 1s 62us/step - loss: 0.0761\n",
      "Epoch 94/100\n"
     ]
    },
    {
     "name": "stdout",
     "output_type": "stream",
     "text": [
      "10000/10000 [==============================] - 1s 60us/step - loss: 0.0760\n",
      "Epoch 95/100\n",
      "10000/10000 [==============================] - 1s 59us/step - loss: 0.0759\n",
      "Epoch 96/100\n",
      "10000/10000 [==============================] - 1s 61us/step - loss: 0.0759\n",
      "Epoch 97/100\n",
      "10000/10000 [==============================] - 1s 60us/step - loss: 0.0758\n",
      "Epoch 98/100\n",
      "10000/10000 [==============================] - 1s 64us/step - loss: 0.0757\n",
      "Epoch 99/100\n",
      "10000/10000 [==============================] - 1s 64us/step - loss: 0.0756\n",
      "Epoch 100/100\n",
      "10000/10000 [==============================] - 1s 59us/step - loss: 0.0755\n"
     ]
    },
    {
     "data": {
      "text/plain": [
       "<keras.callbacks.History at 0x1d734de3dc8>"
      ]
     },
     "execution_count": 19,
     "metadata": {},
     "output_type": "execute_result"
    }
   ],
   "source": [
    "# training the model on the image data\n",
    "\n",
    "autoencoder.fit(images, images, epochs = 100)"
   ]
  },
  {
   "cell_type": "markdown",
   "id": "3fbd1eba",
   "metadata": {
    "id": "3fbd1eba"
   },
   "source": [
    "### 9. Calculate and store the output of the encoding stage for the first five samples."
   ]
  },
  {
   "cell_type": "code",
   "execution_count": 20,
   "id": "9eba9b79",
   "metadata": {
    "colab": {
     "base_uri": "https://localhost:8080/"
    },
    "id": "9eba9b79",
    "outputId": "0f279b89-cc69-42cb-88e3-5bf6812e26c1"
   },
   "outputs": [],
   "source": [
    "# getting the output of the encoding stage for firt five samples\n",
    "\n",
    "encoder_output = Model(input_layer, encoding_stage).predict(images[:5])"
   ]
  },
  {
   "cell_type": "markdown",
   "id": "cf9cda99",
   "metadata": {
    "id": "cf9cda99"
   },
   "source": [
    "### 10. Reshape the encoder output to 10 x 10 (10 x 10 = 100) pixels and multiply by 255."
   ]
  },
  {
   "cell_type": "code",
   "execution_count": 21,
   "id": "9670f22c",
   "metadata": {
    "id": "9670f22c"
   },
   "outputs": [],
   "source": [
    "# reshaping the output from the encoding layer as required\n",
    "\n",
    "encoder_output = encoder_output.reshape((-1, 10, 10)) * 255"
   ]
  },
  {
   "cell_type": "markdown",
   "id": "8db9d8bf",
   "metadata": {
    "id": "8db9d8bf"
   },
   "source": [
    "### 11. Calculate and store the output of the decoding stage for the first five samples."
   ]
  },
  {
   "cell_type": "code",
   "execution_count": 22,
   "id": "908b96b4",
   "metadata": {
    "colab": {
     "base_uri": "https://localhost:8080/"
    },
    "id": "908b96b4",
    "outputId": "fca89286-77b8-4747-ac40-23b13b475eee"
   },
   "outputs": [],
   "source": [
    "# getting the output of the decoding layer for first five samples\n",
    "\n",
    "decoder_output = autoencoder.predict(images[:5])"
   ]
  },
  {
   "cell_type": "markdown",
   "id": "4a47d8b0",
   "metadata": {
    "id": "4a47d8b0"
   },
   "source": [
    "### 12. Reshape the output of the decoder to 28 x 28 and multiply by 255."
   ]
  },
  {
   "cell_type": "code",
   "execution_count": 23,
   "id": "152996bb",
   "metadata": {
    "id": "152996bb"
   },
   "outputs": [],
   "source": [
    "# reshaping the output from the decoding layer as required\n",
    "\n",
    "decoder_output = decoder_output.reshape((-1, 28, 28)) * 255"
   ]
  },
  {
   "cell_type": "markdown",
   "id": "aa4b87fa",
   "metadata": {
    "id": "aa4b87fa"
   },
   "source": [
    "### 13. Plot the original image, the encoder output, and the decoder. Describe what is seen in each set of images."
   ]
  },
  {
   "cell_type": "code",
   "execution_count": 24,
   "id": "6b498026",
   "metadata": {
    "colab": {
     "base_uri": "https://localhost:8080/",
     "height": 396
    },
    "id": "6b498026",
    "outputId": "e55efa99-5122-4181-a666-19daaf9f7b5b"
   },
   "outputs": [
    {
     "data": {
      "image/png": "[encoded data removed]",
      "text/plain": [
       "<Figure size 1000x700 with 15 Axes>"
      ]
     },
     "metadata": {},
     "output_type": "display_data"
    }
   ],
   "source": [
    "images = images.reshape((-1, 28, 28))\n",
    "\n",
    "# plotting the original image and the output of encoder and decoder layers\n",
    "\n",
    "plt.figure(figsize=(10, 7))\n",
    "\n",
    "for i in range(5):\n",
    "\n",
    "    # plotting the original images\n",
    "\n",
    "    plt.subplot(3, 5, i + 1)\n",
    "    plt.imshow(images[i], cmap = 'gray')\n",
    "    plt.axis('off')\n",
    "\n",
    "    # plotting the encoder output\n",
    "\n",
    "    plt.subplot(3, 5, i + 6)\n",
    "    plt.imshow(encoder_output[i], cmap = 'gray')\n",
    "    plt.axis('off')\n",
    "\n",
    "    # plotting the decoder output\n",
    "\n",
    "    plt.subplot(3, 5, i + 11)\n",
    "    plt.imshow(decoder_output[i], cmap = 'gray')\n",
    "    plt.axis('off')\n",
    "\n",
    "plt.show()"
   ]
  },
  {
   "cell_type": "markdown",
   "id": "9e04abe0",
   "metadata": {
    "id": "9e04abe0"
   },
   "source": [
    "We can see three rows of images. \n",
    "\n",
    "The **first row** contains the original images, which are the handwritten digits '5', '0', '4', '1', and '9'. \n",
    "\n",
    "The **second row** is the corresponding autoencoder output for the original images. It is hard to see the shape of the image because they are encoded (compressed after reducing the input information). \n",
    "\n",
    "The **third row** of images is the reconstruction of the original image from the encoded input. We can see that all have the basic shape of the handwritten digit '5', '0', '4', '1', and '9'.\n",
    "\n",
    "The left-hand side of the number '4' is a little bit fuzzy compared with others but it is recognizable from human eyes. Overall, the model is performing well. If we want better performance with clear images, adding additional layers could be a good option. "
   ]
  },
  {
   "cell_type": "code",
   "execution_count": null,
   "id": "O4y4_jbnQOos",
   "metadata": {
    "id": "O4y4_jbnQOos"
   },
   "outputs": [],
   "source": []
  }
 ],
 "metadata": {
  "colab": {
   "collapsed_sections": [],
   "provenance": []
  },
  "kernelspec": {
   "display_name": "Python 3",
   "language": "python",
   "name": "python3"
  },
  "language_info": {
   "codemirror_mode": {
    "name": "ipython",
    "version": 3
   },
   "file_extension": ".py",
   "mimetype": "text/x-python",
   "name": "python",
   "nbconvert_exporter": "python",
   "pygments_lexer": "ipython3",
   "version": "3.7.13"
  }
 },
 "nbformat": 4,
 "nbformat_minor": 5
}
